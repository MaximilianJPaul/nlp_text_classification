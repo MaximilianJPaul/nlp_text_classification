{
 "cells": [
  {
   "cell_type": "markdown",
   "metadata": {},
   "source": [
    "<a name=\"section-preprocessing\"></a><h2 style=\"color:rgb(0,120,170)\">1. Pre-processing & Feature Extraction</h2>"
   ]
  },
  {
   "cell_type": "code",
   "execution_count": 229,
   "metadata": {},
   "outputs": [
    {
     "name": "stderr",
     "output_type": "stream",
     "text": [
      "[nltk_data] Downloading package stopwords to\n",
      "[nltk_data]     /Users/atrophian_strength/nltk_data...\n",
      "[nltk_data]   Package stopwords is already up-to-date!\n"
     ]
    },
    {
     "data": {
      "text/plain": [
       "True"
      ]
     },
     "execution_count": 229,
     "metadata": {},
     "output_type": "execute_result"
    }
   ],
   "source": [
    "import numpy as np\n",
    "import sklearn\n",
    "from sklearn import metrics\n",
    "from sklearn.preprocessing import MinMaxScaler\n",
    "from sklearn.model_selection import KFold\n",
    "from sklearn.linear_model import LinearRegression\n",
    "from sklearn import neighbors\n",
    "from sklearn.naive_bayes import MultinomialNB\n",
    "from sklearn.metrics import confusion_matrix\n",
    "from sklearn.model_selection import train_test_split\n",
    "from sklearn.neighbors import KNeighborsClassifier\n",
    "from sklearn.dummy import DummyClassifier\n",
    "from sklearn import model_selection, svm\n",
    "from sklearn.metrics import accuracy_score\n",
    "import matplotlib.pyplot as plt\n",
    "from collections import Counter\n",
    "import pandas as pd\n",
    "import nltk\n",
    "from nltk.tokenize import RegexpTokenizer\n",
    "from nltk.corpus import stopwords\n",
    "from nltk.stem.porter import PorterStemmer\n",
    "import gensim\n",
    "from sklearn.feature_extraction.text import CountVectorizer\n",
    "from sklearn.decomposition import TruncatedSVD\n",
    "nltk.download('stopwords')"
   ]
  },
  {
   "cell_type": "code",
   "execution_count": null,
   "metadata": {},
   "outputs": [],
   "source": [
    "train = pd.read_csv('./thedeep.subset.train.txt', header=None)\n",
    "test = pd.read_csv('./thedeep.subset.test.txt', header=None)\n",
    "validation = pd.read_csv('./thedeep.subset.validation.txt', header=None)"
   ]
  },
  {
   "cell_type": "markdown",
   "metadata": {},
   "source": [
    "# First look at the data\n",
    "\n",
    "When looking at the data, we can clearly see that the first column is simply a counter, therefore we can disregard it. Second column is the data itself and the last one are the labels.\n",
    "\n",
    "The next step, is to split the dataset into text and labels."
   ]
  },
  {
   "cell_type": "code",
   "execution_count": null,
   "metadata": {},
   "outputs": [],
   "source": [
    "train_corpus, y_train = train.iloc[:, 1].values, train.iloc[:, 2].values\n",
    "test_corpus, y_test = test.iloc[:, 1].values, test.iloc[:, 2].values\n",
    "validation_corpus, y_validation = test.iloc[:, 1].values, test.iloc[:, 2].values"
   ]
  },
  {
   "cell_type": "markdown",
   "metadata": {},
   "source": [
    "# Data Preprocessing and Tokenization\n",
    "\n",
    "The idea of the dataset is to summarize the data with one of the 12 labels available to us. Therefore the cleaning/preprocessing stage, requires us to normalize the data in a way that leaves only the essential parts for the problem.\n",
    "\n",
    "Preprocessing + tokenization steps:\n",
    "1. Transform text into lowercase\n",
    "2. Tokenize text\n",
    "3. Remove stop words\n",
    "4. Perform stemming on text artcle"
   ]
  },
  {
   "cell_type": "code",
   "execution_count": null,
   "metadata": {},
   "outputs": [],
   "source": [
    "def preprocess_data(corpus):\n",
    "    texts = []\n",
    "    \n",
    "    tokenizer = RegexpTokenizer(r'\\w+')\n",
    "    stop = set(stopwords.words('english'))\n",
    "    porter_stemmer = PorterStemmer()\n",
    "\n",
    "    for document in corpus:\n",
    "        raw = document.lower()\n",
    "        tokens = tokenizer.tokenize(raw)\n",
    "        stopped_tokens = [i for i in tokens if not i in stop]\n",
    "        stemmed_tokens = [porter_stemmer.stem(i) for i in stopped_tokens]\n",
    "        texts.append(stemmed_tokens)\n",
    "        \n",
    "    return texts\n",
    "\n",
    "train_tokenized = preprocess_data(train_corpus)\n",
    "test_tokenized = preprocess_data(test_corpus)\n",
    "validation_tokenized = preprocess_data(validation_corpus)"
   ]
  },
  {
   "cell_type": "markdown",
   "metadata": {},
   "source": [
    "### Data Preprocessing and Tokenization - Example"
   ]
  },
  {
   "cell_type": "code",
   "execution_count": null,
   "metadata": {},
   "outputs": [],
   "source": [
    "print(\"Sentence\")\n",
    "print(train_corpus[0])\n",
    "print(\"\\nSentence after preprocessing and tokenization\")\n",
    "print(train_tokenized[0])"
   ]
  },
  {
   "cell_type": "markdown",
   "metadata": {},
   "source": [
    "1. We see that stop words have been removed: 'In' is absent in our tokenized set.\n",
    "2. All words are in lowercase\n",
    "3. Stemming results: 'addition' -> 'addit'"
   ]
  },
  {
   "cell_type": "markdown",
   "metadata": {},
   "source": [
    "# Create a Dictionary"
   ]
  },
  {
   "cell_type": "code",
   "execution_count": null,
   "metadata": {},
   "outputs": [],
   "source": [
    "def dic_of_voc(data):\n",
    "    dictionary = Counter()\n",
    "    \n",
    "    for document in data:\n",
    "        dictionary.update(document)\n",
    "    \n",
    "    dictionary = dict(dictionary)\n",
    "    return dictionary\n",
    "\n",
    "dictionary = dic_of_voc(train_tokenized)\n",
    "initial_size = len(dictionary)"
   ]
  },
  {
   "cell_type": "markdown",
   "metadata": {},
   "source": [
    "### Reduce the size of the dictionary"
   ]
  },
  {
   "cell_type": "code",
   "execution_count": null,
   "metadata": {},
   "outputs": [],
   "source": [
    "def reduce_dic(dictionary, threshold=0):\n",
    "    gensim.utils.prune_vocab(dictionary, min_reduce=threshold)\n",
    "    return dictionary\n",
    "\n",
    "dictionary = reduce_dic(dictionary, 5)"
   ]
  },
  {
   "cell_type": "markdown",
   "metadata": {},
   "source": [
    "### Dealing with OOV tokens\n",
    "\n",
    "In the next steps, when creating document representation vectors, OOV tokens will be simply ignored and in the document they will simply be taken for granted"
   ]
  },
  {
   "cell_type": "markdown",
   "metadata": {},
   "source": [
    "### Statistics of the dictionary before and after the reduction"
   ]
  },
  {
   "cell_type": "code",
   "execution_count": null,
   "metadata": {},
   "outputs": [],
   "source": [
    "size = len(dictionary)\n",
    "\n",
    "labels = [\"Before reduction\", \"After reduction\"]\n",
    "sizes = [initial_size, size]\n",
    "plt.bar(labels, sizes)\n",
    "plt.show()"
   ]
  },
  {
   "cell_type": "code",
   "execution_count": null,
   "metadata": {},
   "outputs": [],
   "source": [
    "print(f\"Size of a dictionary before reduction: {initial_size}\")\n",
    "print(f\"Size of a dictionary after reduction: {size}\")"
   ]
  },
  {
   "cell_type": "markdown",
   "metadata": {},
   "source": [
    "# Create Sentence Vectors"
   ]
  },
  {
   "cell_type": "markdown",
   "metadata": {},
   "source": [
    "#### Create document-word matrix (tf-idf)"
   ]
  },
  {
   "cell_type": "code",
   "execution_count": null,
   "metadata": {},
   "outputs": [],
   "source": [
    "def computeTF(sentence, wordDict):\n",
    "    tcDict = {}\n",
    "    bowDict = dict(Counter(sentence))\n",
    "    \n",
    "    for word, _ in wordDict.items():\n",
    "        tcDict[word] = np.log(1 + bowDict.get(word, 0))\n",
    "            \n",
    "    return tcDict\n",
    "\n",
    "def computeIDF(wordDict, corpus):\n",
    "    idfDict = {}\n",
    "    M = len(corpus)\n",
    "    \n",
    "    for text in corpus:\n",
    "        for word, _ in wordDict.items():\n",
    "            if word in text:\n",
    "                idfDict[word] = idfDict.get(word, 0) + 1\n",
    "                \n",
    "    for word, counter in idfDict.items():\n",
    "        idfDict[word] = np.log(M / (counter + 1))\n",
    "        \n",
    "    return idfDict"
   ]
  },
  {
   "cell_type": "code",
   "execution_count": null,
   "metadata": {},
   "outputs": [],
   "source": [
    "idf = computeIDF(dictionary, train_tokenized)"
   ]
  },
  {
   "cell_type": "code",
   "execution_count": null,
   "metadata": {},
   "outputs": [],
   "source": [
    "def tf_idf(sentence, wordDict, idf=idf):\n",
    "    tfidf = {}\n",
    "    \n",
    "    for word, val in computeTF(sentence, wordDict).items():\n",
    "        tfidf[word] = val * idf[word]\n",
    "        \n",
    "    return tfidf"
   ]
  },
  {
   "cell_type": "code",
   "execution_count": null,
   "metadata": {},
   "outputs": [],
   "source": [
    "def document_word_matrix(method, dictionary, corpus):\n",
    "    doc_w_matrix = np.zeros((len(corpus), len(dictionary)))\n",
    "    vocabulary = list(dictionary.keys())\n",
    "\n",
    "    for sentence in range(len(corpus)):\n",
    "        print(f'{sentence}/{len(corpus)}', end=\"\\r\")\n",
    "        tf = method(corpus[sentence], dictionary)\n",
    "        for word in range(len(vocabulary)):\n",
    "            doc_w_matrix[sentence, word] = tf[vocabulary[word]]\n",
    "    \n",
    "    print('\\n')\n",
    "        \n",
    "    return doc_w_matrix"
   ]
  },
  {
   "cell_type": "code",
   "execution_count": null,
   "metadata": {},
   "outputs": [],
   "source": [
    "tf_idf = {\n",
    "    'train_matrix': document_word_matrix(tf_idf, dictionary, train_tokenized),\n",
    "    'test_matrix': document_word_matrix(tf_idf, dictionary, test_tokenized),\n",
    "    'validation_matrix': document_word_matrix(tf_idf, dictionary, validation_tokenized)\n",
    "}"
   ]
  },
  {
   "cell_type": "code",
   "execution_count": null,
   "metadata": {},
   "outputs": [],
   "source": [
    "print(tf_idf['test_matrix'].shape)"
   ]
  },
  {
   "cell_type": "markdown",
   "metadata": {},
   "source": [
    "### Compute sparcity of BoW (tf_idf)"
   ]
  },
  {
   "cell_type": "code",
   "execution_count": null,
   "metadata": {},
   "outputs": [],
   "source": [
    "def sparcity(doc_w_matrix):\n",
    "    size = doc_w_matrix.size\n",
    "    non_zero_n = np.count_nonzero(doc_w_matrix)\n",
    "    zero_n = size - non_zero_n\n",
    "    \n",
    "    return zero_n / size\n",
    "    "
   ]
  },
  {
   "cell_type": "code",
   "execution_count": null,
   "metadata": {},
   "outputs": [],
   "source": [
    "tf_idf_sparcity = {\n",
    "    \"train_sparcity\": sparcity(tf_idf['train_matrix']),\n",
    "    \"test_sparcity\": sparcity(tf_idf['test_matrix']),\n",
    "    \"validation_sparcity\": sparcity(tf_idf['validation_matrix']),\n",
    "}"
   ]
  },
  {
   "cell_type": "markdown",
   "metadata": {},
   "source": [
    "### Sparcity report (tf_idf)"
   ]
  },
  {
   "cell_type": "code",
   "execution_count": null,
   "metadata": {},
   "outputs": [],
   "source": [
    "labels = [\"train\", \"test\", \"validation\"]\n",
    "\n",
    "train_sparcity = tf_idf_sparcity[\"train_sparcity\"] * 100\n",
    "test_sparcity = tf_idf_sparcity[\"test_sparcity\"] * 100\n",
    "validation_sparcity = tf_idf_sparcity[\"validation_sparcity\"] * 100\n",
    "\n",
    "values = [train_sparcity, test_sparcity, validation_sparcity]\n",
    "\n",
    "plt.bar(labels, values)\n",
    "plt.xlabel(\"Datasets\")\n",
    "plt.ylabel(\"Percentages\")\n",
    "plt.title(\"Sparcity (tf_idf)\")\n",
    "plt.show()\n",
    "\n",
    "print(f\"Train_sparcity: {train_sparcity}\")\n",
    "print(f\"Test_sparcity: {test_sparcity}\")\n",
    "print(f\"Validation_sparcity: {validation_sparcity}\")"
   ]
  },
  {
   "cell_type": "code",
   "execution_count": null,
   "metadata": {},
   "outputs": [],
   "source": [
    "tf = {\n",
    "    'train_matrix': document_word_matrix(computeTF, dictionary, train_tokenized),\n",
    "    'test_matrix': document_word_matrix(computeTF, dictionary, test_tokenized),\n",
    "    'validation_matrix': document_word_matrix(computeTF, dictionary, validation_tokenized)\n",
    "}"
   ]
  },
  {
   "cell_type": "markdown",
   "metadata": {},
   "source": [
    "### Compute sparcity of BoW (tf)"
   ]
  },
  {
   "cell_type": "code",
   "execution_count": null,
   "metadata": {},
   "outputs": [],
   "source": [
    "tf_sparcity = {\n",
    "    \"train_sparcity\": sparcity(tf['train_matrix']),\n",
    "    \"test_sparcity\": sparcity(tf['test_matrix']),\n",
    "    \"validation_sparcity\": sparcity(tf['validation_matrix']),\n",
    "}"
   ]
  },
  {
   "cell_type": "markdown",
   "metadata": {},
   "source": [
    "### Sparcity report (tf)"
   ]
  },
  {
   "cell_type": "code",
   "execution_count": null,
   "metadata": {},
   "outputs": [],
   "source": [
    "labels = [\"train\", \"test\", \"validation\"]\n",
    "\n",
    "train_sparcity = tf_sparcity[\"train_sparcity\"] * 100\n",
    "test_sparcity = tf_sparcity[\"test_sparcity\"] * 100\n",
    "validation_sparcity = tf_sparcity[\"validation_sparcity\"] * 100\n",
    "\n",
    "values = [train_sparcity, test_sparcity, validation_sparcity]\n",
    "\n",
    "plt.bar(labels, values)\n",
    "plt.xlabel(\"Datasets\")\n",
    "plt.ylabel(\"Percentages\")\n",
    "plt.title(\"Sparcity (tf_idf)\")\n",
    "plt.show()\n",
    "\n",
    "print(f\"Train_sparcity: {train_sparcity}\")\n",
    "print(f\"Test_sparcity: {test_sparcity}\")\n",
    "print(f\"Validation_sparcity: {validation_sparcity}\")"
   ]
  },
  {
   "cell_type": "markdown",
   "metadata": {},
   "source": [
    "# Dimensionality Reduction"
   ]
  },
  {
   "cell_type": "code",
   "execution_count": null,
   "metadata": {},
   "outputs": [],
   "source": [
    "def LSA(data, k):\n",
    "    svd = TruncatedSVD(n_components=k)\n",
    "    return svd.fit_transform(data)"
   ]
  },
  {
   "cell_type": "code",
   "execution_count": null,
   "metadata": {},
   "outputs": [],
   "source": [
    "# Set k \n",
    "k = 500"
   ]
  },
  {
   "cell_type": "code",
   "execution_count": null,
   "metadata": {},
   "outputs": [],
   "source": [
    "tf_idf_low_dimension = {\n",
    "    \"train_matrix_low\": LSA(tf_idf['train_matrix'], k),\n",
    "    \"test_matrix_low\": LSA(tf_idf['test_matrix'], k),\n",
    "    \"validation_matrix_low\": LSA(tf_idf['validation_matrix'], k),\n",
    "}"
   ]
  },
  {
   "cell_type": "code",
   "execution_count": null,
   "metadata": {},
   "outputs": [],
   "source": [
    "tf_low_dimension = {\n",
    "    \"train_matrix_low\": LSA(tf['train_matrix'], k),\n",
    "    \"test_matrix_low\": LSA(tf['test_matrix'], k),\n",
    "    \"validation_matrix_low\": LSA(tf['validation_matrix'], k),\n",
    "}"
   ]
  },
  {
   "cell_type": "markdown",
   "metadata": {},
   "source": [
    "# Summary\n",
    "\n",
    "Overall, four variations of feature vectors have been created. These are:\n",
    "\n",
    "1. High Dimensional using TF_IDF weighting method: tf_idf OBJECT\n",
    "2. Low Dimensional using TF_IDF weighting method: tf_idf_low_dimension OBJECT\n",
    "3. High Dimensional using TF weighting method: tf OBJECT\n",
    "4. High Dimensional using TF_IDF weighting method: tf_low_dimension OBJECT"
   ]
  },
  {
   "cell_type": "markdown",
   "metadata": {},
   "source": [
    "<a name=\"section-training\"></a><h2 style=\"color:rgb(0,120,170)\">2. Training and Results Analysis</h2>"
   ]
  },
  {
   "cell_type": "markdown",
   "metadata": {},
   "source": [
    "# Dummy baseline"
   ]
  },
  {
   "cell_type": "markdown",
   "metadata": {},
   "source": [
    "#### Create train and test datasets"
   ]
  },
  {
   "cell_type": "code",
   "execution_count": null,
   "metadata": {},
   "outputs": [],
   "source": [
    "# tf_idf\n",
    "X_train = tf_idf['train_matrix']\n",
    "X_test = tf_idf['test_matrix']\n",
    "X_validation = tf_idf['test_matrix']\n",
    "\n",
    "X_train_low = tf_idf_low_dimension['train_matrix_low']\n",
    "X_test_low = tf_idf_low_dimension['test_matrix_low']\n",
    "X_validation_low = tf_idf_low_dimension['validation_matrix_low']\n",
    "\n",
    "# tf\n",
    "X_train_tf = tf['train_matrix']\n",
    "X_test_tf = tf['test_matrix']\n",
    "X_validation_tf = tf['test_matrix']\n",
    "\n",
    "X_train_low_tf = tf_low_dimension['train_matrix_low']\n",
    "X_test_low_tf = tf_low_dimension['test_matrix_low']\n",
    "X_validation_low_tf = tf_low_dimension['validation_matrix_low']\n"
   ]
  },
  {
   "cell_type": "markdown",
   "metadata": {},
   "source": [
    "#### Create a Dummy Classifier and train it"
   ]
  },
  {
   "cell_type": "code",
   "execution_count": null,
   "metadata": {},
   "outputs": [],
   "source": [
    "dummy_clf = DummyClassifier(strategy=\"most_frequent\")\n",
    "dummy_clf.fit(X_train, y_train)"
   ]
  },
  {
   "cell_type": "markdown",
   "metadata": {},
   "source": [
    "#### Test the classifier"
   ]
  },
  {
   "cell_type": "code",
   "execution_count": null,
   "metadata": {},
   "outputs": [],
   "source": [
    "dummy_clf.predict(X_test)\n",
    "dummy_clf.score(X_test, y_test)"
   ]
  },
  {
   "cell_type": "code",
   "execution_count": null,
   "metadata": {},
   "outputs": [],
   "source": [
    "dummy_clf.predict(X_validation)\n",
    "dummy_clf.score(X_validation, y_validation)"
   ]
  },
  {
   "cell_type": "markdown",
   "metadata": {},
   "source": [
    "# Training and tuning classifiers"
   ]
  },
  {
   "cell_type": "markdown",
   "metadata": {},
   "source": [
    "### 1. KNN Classifier "
   ]
  },
  {
   "cell_type": "code",
   "execution_count": null,
   "metadata": {},
   "outputs": [],
   "source": [
    "def train_kNN(X_train,y_train,k_train): \n",
    "    knn = neighbors.KNeighborsClassifier(n_neighbors=k_train)\n",
    "    classifier = knn.fit(X_train, y_train)\n",
    "    return classifier \n",
    "\n",
    "def eval_kNN(classifier, X_eval): \n",
    "    predictions = classifier.predict(X_eval)\n",
    "    return predictions\n",
    "\n",
    "def mean_zero_one_loss(y_true, y_pred):\n",
    "    loss = sklearn.metrics.zero_one_loss(y_true, y_pred)\n",
    "    return loss\n",
    "\n",
    "def run_kNN(X,y,nf,k):\n",
    "    kf = KFold(n_splits=nf)\n",
    "    mean_error = 0\n",
    "    \n",
    "    for train_index, test_index in kf.split(X):\n",
    "        X_train, X_test = X[train_index], X[test_index]\n",
    "        y_train, y_test = y[train_index], y[test_index]\n",
    "        classifier = train_kNN(X_train, y_train, k)\n",
    "        y_pred = eval_kNN(classifier, X_test)\n",
    "        mean_error += mean_zero_one_loss(y_test, y_pred)\n",
    "        \n",
    "    \n",
    "    return mean_error / nf\n"
   ]
  },
  {
   "cell_type": "code",
   "execution_count": null,
   "metadata": {},
   "outputs": [],
   "source": [
    "def tune_hyperparameter_k(classifier, X, y, k_train=10, nf=10): \n",
    "    error_holder = []\n",
    "\n",
    "    for k in range(1, k_train + 1, 2):\n",
    "        print(f'k = {k}', end=\"\\r\")\n",
    "        error_holder.append(classifier(X, y, 10, k))\n",
    "        \n",
    "    return error_holder\n",
    "\n",
    "\n",
    "\n",
    "def plot_results(k, errors):\n",
    "    x = np.array(list(range(1, k+1, 2)), dtype=np.int8)\n",
    "\n",
    "    plt.scatter(x, errors)\n",
    "    plt.title(\"KNN\")\n",
    "    plt.xlabel(\"k\")\n",
    "    plt.ylabel(\"mean-error\")\n",
    "    plt.show()\n",
    "    \n",
    "def optimal_k(errors):\n",
    "    return (errors.index(min(errors)) * 2 + 1, min(errors))"
   ]
  },
  {
   "cell_type": "markdown",
   "metadata": {},
   "source": [
    "### Experiment N=1\n",
    "\n",
    "1. Weighting Method = tf_idf\n",
    "2. Dimension = High"
   ]
  },
  {
   "cell_type": "code",
   "execution_count": 1,
   "metadata": {},
   "outputs": [
    {
     "ename": "NameError",
     "evalue": "name 'tune_hyperparameter_k' is not defined",
     "output_type": "error",
     "traceback": [
      "\u001b[0;31m---------------------------------------------------------------------------\u001b[0m",
      "\u001b[0;31mNameError\u001b[0m                                 Traceback (most recent call last)",
      "Cell \u001b[0;32mIn [1], line 2\u001b[0m\n\u001b[1;32m      1\u001b[0m k \u001b[39m=\u001b[39m \u001b[39m10\u001b[39m\n\u001b[0;32m----> 2\u001b[0m errors \u001b[39m=\u001b[39m tune_hyperparameter_k(run_kNN, X_train, y_train, k_train\u001b[39m=\u001b[39mk)\n",
      "\u001b[0;31mNameError\u001b[0m: name 'tune_hyperparameter_k' is not defined"
     ]
    }
   ],
   "source": [
    "k = 10\n",
    "errors = tune_hyperparameter_k(run_kNN, X_train, y_train, k_train=k)"
   ]
  },
  {
   "cell_type": "code",
   "execution_count": 127,
   "metadata": {},
   "outputs": [
    {
     "data": {
      "image/png": "[encoded data removed]",
      "text/plain": [
       "<Figure size 640x480 with 1 Axes>"
      ]
     },
     "metadata": {},
     "output_type": "display_data"
    }
   ],
   "source": [
    "plot_results(k, errors)"
   ]
  },
  {
   "cell_type": "code",
   "execution_count": 128,
   "metadata": {},
   "outputs": [],
   "source": [
    "k_high_tf_idf = optimal_k(errors)"
   ]
  },
  {
   "cell_type": "markdown",
   "metadata": {},
   "source": [
    "### Experiment N=2\n",
    "\n",
    "1. Weighting Method = tf_idf\n",
    "2. Dimension = Low"
   ]
  },
  {
   "cell_type": "code",
   "execution_count": 129,
   "metadata": {},
   "outputs": [
    {
     "name": "stdout",
     "output_type": "stream",
     "text": [
      "k = 29\r"
     ]
    }
   ],
   "source": [
    "k = 30\n",
    "errors = tune_hyperparameter_k(run_kNN, X_train_low, y_train, k_train=k)"
   ]
  },
  {
   "cell_type": "code",
   "execution_count": 130,
   "metadata": {},
   "outputs": [
    {
     "data": {
      "image/png": "[encoded data removed]",
      "text/plain": [
       "<Figure size 640x480 with 1 Axes>"
      ]
     },
     "metadata": {},
     "output_type": "display_data"
    }
   ],
   "source": [
    "plot_results(k, errors)"
   ]
  },
  {
   "cell_type": "code",
   "execution_count": 131,
   "metadata": {},
   "outputs": [],
   "source": [
    "k_low_tf_idf = optimal_k(errors)"
   ]
  },
  {
   "cell_type": "markdown",
   "metadata": {},
   "source": [
    "### Experiment N=3\n",
    "\n",
    "1. Weighting Method = tf\n",
    "2. Dimension = high"
   ]
  },
  {
   "cell_type": "code",
   "execution_count": 132,
   "metadata": {},
   "outputs": [
    {
     "name": "stdout",
     "output_type": "stream",
     "text": [
      "k = 29\r"
     ]
    }
   ],
   "source": [
    "k = 30\n",
    "errors = tune_hyperparameter_k(run_kNN, X_train_tf, y_train, k_train=k)"
   ]
  },
  {
   "cell_type": "code",
   "execution_count": 133,
   "metadata": {},
   "outputs": [
    {
     "data": {
      "image/png": "[encoded data removed]",
      "text/plain": [
       "<Figure size 640x480 with 1 Axes>"
      ]
     },
     "metadata": {},
     "output_type": "display_data"
    }
   ],
   "source": [
    "plot_results(k, errors)"
   ]
  },
  {
   "cell_type": "code",
   "execution_count": 134,
   "metadata": {},
   "outputs": [],
   "source": [
    "k_high_tf = optimal_k(errors)"
   ]
  },
  {
   "cell_type": "markdown",
   "metadata": {},
   "source": [
    "### Experiment N=4\n",
    "\n",
    "1. Weighting Method = tf\n",
    "2. Dimension = low"
   ]
  },
  {
   "cell_type": "code",
   "execution_count": 135,
   "metadata": {},
   "outputs": [
    {
     "name": "stdout",
     "output_type": "stream",
     "text": [
      "k = 99\r"
     ]
    }
   ],
   "source": [
    "k = 100\n",
    "errors = tune_hyperparameter_k(run_kNN, X_train_low_tf, y_train, k_train=k)"
   ]
  },
  {
   "cell_type": "code",
   "execution_count": 136,
   "metadata": {},
   "outputs": [
    {
     "data": {
      "image/png": "[encoded data removed]",
      "text/plain": [
       "<Figure size 640x480 with 1 Axes>"
      ]
     },
     "metadata": {},
     "output_type": "display_data"
    }
   ],
   "source": [
    "plot_results(k, errors)"
   ]
  },
  {
   "cell_type": "code",
   "execution_count": 137,
   "metadata": {},
   "outputs": [],
   "source": [
    "k_low_tf = optimal_k(errors)"
   ]
  },
  {
   "cell_type": "markdown",
   "metadata": {},
   "source": [
    "### Best kNN Model"
   ]
  },
  {
   "cell_type": "code",
   "execution_count": 138,
   "metadata": {},
   "outputs": [],
   "source": [
    "bows = ['tf_idf', 'tf_idf_low', 'tf', 'tf_low']\n",
    "ks = [k_high_tf_idf, k_low_tf_idf, k_high_tf, k_low_tf]\n",
    "\n",
    "min_error = []\n",
    "k_values = []\n",
    "for model in ks:\n",
    "    k, error = model\n",
    "    min_error.append(error)\n",
    "    k_values.append(k)"
   ]
  },
  {
   "cell_type": "code",
   "execution_count": 174,
   "metadata": {},
   "outputs": [
    {
     "data": {
      "text/plain": [
       "{'k': 17, 'model': 'tf_idf_low', 'error': 0.2769611890999174}"
      ]
     },
     "execution_count": 174,
     "metadata": {},
     "output_type": "execute_result"
    }
   ],
   "source": [
    "best_knn_model = {\n",
    "    'k': k_values[min_error.index(min(min_error))],\n",
    "    'model': bows[min_error.index(min(min_error))],\n",
    "    'error': min(min_error)\n",
    "}\n",
    "\n",
    "best_knn_model"
   ]
  },
  {
   "cell_type": "markdown",
   "metadata": {},
   "source": [
    "### 2. Naive Bayes for Classification"
   ]
  },
  {
   "cell_type": "code",
   "execution_count": 175,
   "metadata": {},
   "outputs": [],
   "source": [
    "def train_NB(X_train, y_trainf, alpha):\n",
    "    classifier = MultinomialNB(alpha=alpha).fit(X_train, y_train)\n",
    "    return classifier\n",
    "\n",
    "def eval_NB(classifier, X_eval):\n",
    "    predictions = classifier.predict(X_eval)\n",
    "    return predictions\n",
    "\n",
    "def run_NB(X, y, X_validation, y_validation, alpha):\n",
    "    classifier = train_NB(X, y, alpha)\n",
    "    y_pred = eval_NB(classifier, X_validation)\n",
    "    error = mean_zero_one_loss(y_validation, y_pred)\n",
    "    \n",
    "    return error"
   ]
  },
  {
   "cell_type": "code",
   "execution_count": 176,
   "metadata": {},
   "outputs": [],
   "source": [
    "def tune_hyperparameters(classifier, X, y, X_validation, y_validation, n):\n",
    "    errors = []\n",
    "    \n",
    "    for alpha in range(1, n + 1, 2):\n",
    "        print(f\"alpha = {alpha}\", end=\"\\r\")\n",
    "        errors.append(classifier(X, y, X_validation, y_validation, alpha))\n",
    "    \n",
    "    return errors\n",
    "    \n",
    "\n",
    "def plot_results_NB(errors, n):\n",
    "    x = np.array(list(range(1, n+1, 2)), dtype=np.int8)\n",
    "    \n",
    "    plt.scatter(x, errors)\n",
    "    plt.title(\"Naive Bayes\")\n",
    "    plt.xlabel(\"alpha\")\n",
    "    plt.ylabel(\"error\")\n",
    "    plt.show()"
   ]
  },
  {
   "cell_type": "markdown",
   "metadata": {},
   "source": [
    "### Experiment N=5\n",
    "\n",
    "1. Weighting Method = tf_idf\n",
    "2. Dimension = high"
   ]
  },
  {
   "cell_type": "code",
   "execution_count": 177,
   "metadata": {},
   "outputs": [
    {
     "name": "stdout",
     "output_type": "stream",
     "text": [
      "alpha = 29\r"
     ]
    }
   ],
   "source": [
    "n = 30\n",
    "errors = tune_hyperparameters(run_NB, X_train, y_train, X_validation, y_validation, n)"
   ]
  },
  {
   "cell_type": "code",
   "execution_count": 178,
   "metadata": {},
   "outputs": [
    {
     "data": {
      "image/png": "[encoded data removed]",
      "text/plain": [
       "<Figure size 640x480 with 1 Axes>"
      ]
     },
     "metadata": {},
     "output_type": "display_data"
    }
   ],
   "source": [
    "plot_results_NB(errors, n)"
   ]
  },
  {
   "cell_type": "markdown",
   "metadata": {},
   "source": [
    "### Experiment N=6\n",
    "\n",
    "1. Weighting Method = tf_idf\n",
    "2. Dimension = low"
   ]
  },
  {
   "cell_type": "code",
   "execution_count": 179,
   "metadata": {},
   "outputs": [
    {
     "name": "stdout",
     "output_type": "stream",
     "text": [
      "alpha = 29\r"
     ]
    }
   ],
   "source": [
    "n = 30\n",
    "scaler = MinMaxScaler()\n",
    "new_X_validation_low = scaler.fit_transform(X_validation_low)\n",
    "new_X_train_low = scaler.fit_transform(X_train_low)\n",
    "errors = tune_hyperparameters(run_NB, new_X_train_low, y_train, new_X_validation_low, y_validation, n)\n"
   ]
  },
  {
   "cell_type": "code",
   "execution_count": 180,
   "metadata": {},
   "outputs": [
    {
     "data": {
      "image/png": "[encoded data removed]",
      "text/plain": [
       "<Figure size 640x480 with 1 Axes>"
      ]
     },
     "metadata": {},
     "output_type": "display_data"
    }
   ],
   "source": [
    "plot_results_NB(errors, n)"
   ]
  },
  {
   "cell_type": "markdown",
   "metadata": {},
   "source": [
    "### Experiment N=7\n",
    "\n",
    "1. Weighting Method = tf_idf\n",
    "2. Dimension = high"
   ]
  },
  {
   "cell_type": "code",
   "execution_count": 181,
   "metadata": {},
   "outputs": [
    {
     "name": "stdout",
     "output_type": "stream",
     "text": [
      "alpha = 29\r"
     ]
    }
   ],
   "source": [
    "n = 30\n",
    "errors = tune_hyperparameters(run_NB, X_train_tf, y_train, X_validation_tf, y_validation, n)"
   ]
  },
  {
   "cell_type": "code",
   "execution_count": 182,
   "metadata": {},
   "outputs": [
    {
     "data": {
      "image/png": "[encoded data removed]",
      "text/plain": [
       "<Figure size 640x480 with 1 Axes>"
      ]
     },
     "metadata": {},
     "output_type": "display_data"
    }
   ],
   "source": [
    "plot_results_NB(errors, n)"
   ]
  },
  {
   "cell_type": "markdown",
   "metadata": {},
   "source": [
    "### Experiment N=8\n",
    "\n",
    "1. Weighting Method = tf_idf\n",
    "2. Dimension = high"
   ]
  },
  {
   "cell_type": "code",
   "execution_count": 183,
   "metadata": {},
   "outputs": [
    {
     "name": "stdout",
     "output_type": "stream",
     "text": [
      "alpha = 29\r"
     ]
    }
   ],
   "source": [
    "n = 30\n",
    "scaler = MinMaxScaler()\n",
    "new_X_validation_low_tf = scaler.fit_transform(X_validation_low_tf)\n",
    "new_X_train_low_tf = scaler.fit_transform(X_train_low_tf)\n",
    "errors = tune_hyperparameters(run_NB, new_X_train_low_tf, y_train, new_X_validation_low_tf, y_validation, n)"
   ]
  },
  {
   "cell_type": "code",
   "execution_count": 184,
   "metadata": {},
   "outputs": [
    {
     "data": {
      "image/png": "[encoded data removed]",
      "text/plain": [
       "<Figure size 640x480 with 1 Axes>"
      ]
     },
     "metadata": {},
     "output_type": "display_data"
    }
   ],
   "source": [
    "plot_results_NB(errors, n)"
   ]
  },
  {
   "cell_type": "markdown",
   "metadata": {},
   "source": [
    "# Evaluation"
   ]
  },
  {
   "cell_type": "markdown",
   "metadata": {},
   "source": [
    "Naive Bayesian Classification Algorithm should better not be used in NLP problems, because the LSA dimensionality reduction introduces new negative values, which are not allowed in Naive Bayesian algorithm. \n",
    "\n",
    "However, the best classification results has the given the Naive Bayesian algorithm, for high dimensionality matrix, with weighting method - tf_IDF."
   ]
  },
  {
   "cell_type": "code",
   "execution_count": 191,
   "metadata": {},
   "outputs": [
    {
     "name": "stdout",
     "output_type": "stream",
     "text": [
      "alpha = 29\r"
     ]
    }
   ],
   "source": [
    "n = 30\n",
    "validation_errors = tune_hyperparameters(run_NB, X_train, y_train, X_validation, y_validation, n)"
   ]
  },
  {
   "cell_type": "code",
   "execution_count": 203,
   "metadata": {},
   "outputs": [
    {
     "data": {
      "text/plain": [
       "{'model': 'tf_idf', 'error': 0.23776493256262043, 'alpha': 7}"
      ]
     },
     "execution_count": 203,
     "metadata": {},
     "output_type": "execute_result"
    }
   ],
   "source": [
    "best_bayesian = {\n",
    "    'model': 'tf_idf',\n",
    "    'error': min(errors),\n",
    "    'alpha': errors.index(min(errors)) * 2 + 1\n",
    "}\n",
    "\n",
    "best_bayesian"
   ]
  },
  {
   "cell_type": "markdown",
   "metadata": {},
   "source": [
    "### Test and Validation Results for best KNN and Naive Bayesian hypermaterers tuning"
   ]
  },
  {
   "cell_type": "code",
   "execution_count": 216,
   "metadata": {},
   "outputs": [],
   "source": [
    "knn_classifier = train_kNN(X_train_low, y_train, best_knn_model['k'])\n",
    "test_predicts_knn = knn_classifier.predict(X_test_low)\n",
    "validation_predicts_knn = knn_classifier.predict(X_validation_low)\n",
    "\n",
    "naive_classifier = train_NB(X_train, y_train, best_bayesian['alpha'])\n",
    "test_predicts_naive = naive_classifier.predict(X_test)\n",
    "validation_predicts_naive = naive_classifier.predict(X_validation)"
   ]
  },
  {
   "cell_type": "code",
   "execution_count": 217,
   "metadata": {},
   "outputs": [
    {
     "name": "stdout",
     "output_type": "stream",
     "text": [
      "\n",
      "\n"
     ]
    }
   ],
   "source": [
    "test_error_bayesian = mean_zero_one_loss(y_test, test_predicts_naive)\n",
    "print('\\n')\n",
    "test_error_knn = mean_zero_one_loss(y_test, test_predicts_knn)"
   ]
  },
  {
   "cell_type": "code",
   "execution_count": 218,
   "metadata": {},
   "outputs": [],
   "source": [
    "validation_error_bayesian = mean_zero_one_loss(y_test, validation_predicts_naive)\n",
    "validation_error_knn = mean_zero_one_loss(y_validation, validation_predicts_knn)"
   ]
  },
  {
   "cell_type": "code",
   "execution_count": 220,
   "metadata": {},
   "outputs": [],
   "source": [
    "result = {'Validation Error': [validation_error_knn, validation_error_bayesian], \n",
    "          'Test Error': [test_error_knn, test_error_bayesian],\n",
    "          'Model': ['KNN Low (tf_idf)', 'Naive Bayesian High (alpha=7)']}"
   ]
  },
  {
   "cell_type": "code",
   "execution_count": 223,
   "metadata": {},
   "outputs": [
    {
     "data": {
      "text/html": [
       "<div>\n",
       "<style scoped>\n",
       "    .dataframe tbody tr th:only-of-type {\n",
       "        vertical-align: middle;\n",
       "    }\n",
       "\n",
       "    .dataframe tbody tr th {\n",
       "        vertical-align: top;\n",
       "    }\n",
       "\n",
       "    .dataframe thead th {\n",
       "        text-align: right;\n",
       "    }\n",
       "</style>\n",
       "<table border=\"1\" class=\"dataframe\">\n",
       "  <thead>\n",
       "    <tr style=\"text-align: right;\">\n",
       "      <th></th>\n",
       "      <th>Validation Error</th>\n",
       "      <th>Test Error</th>\n",
       "      <th>Model</th>\n",
       "    </tr>\n",
       "  </thead>\n",
       "  <tbody>\n",
       "    <tr>\n",
       "      <th>0</th>\n",
       "      <td>0.689403</td>\n",
       "      <td>0.691715</td>\n",
       "      <td>KNN Low (tf_idf)</td>\n",
       "    </tr>\n",
       "    <tr>\n",
       "      <th>1</th>\n",
       "      <td>0.237765</td>\n",
       "      <td>0.237765</td>\n",
       "      <td>Naive Bayesian High (alpha=7)</td>\n",
       "    </tr>\n",
       "  </tbody>\n",
       "</table>\n",
       "</div>"
      ],
      "text/plain": [
       "   Validation Error  Test Error                          Model\n",
       "0          0.689403    0.691715               KNN Low (tf_idf)\n",
       "1          0.237765    0.237765  Naive Bayesian High (alpha=7)"
      ]
     },
     "execution_count": 223,
     "metadata": {},
     "output_type": "execute_result"
    }
   ],
   "source": [
    "df = pd.DataFrame(data=result)\n",
    "df"
   ]
  },
  {
   "cell_type": "markdown",
   "metadata": {},
   "source": [
    "# Confusion Matrix"
   ]
  },
  {
   "cell_type": "code",
   "execution_count": 235,
   "metadata": {},
   "outputs": [
    {
     "data": {
      "text/plain": [
       "<sklearn.metrics._plot.confusion_matrix.ConfusionMatrixDisplay at 0x7f98d41ff040>"
      ]
     },
     "execution_count": 235,
     "metadata": {},
     "output_type": "execute_result"
    },
    {
     "data": {
      "image/png": "[encoded data removed]",
      "text/plain": [
       "<Figure size 640x480 with 2 Axes>"
      ]
     },
     "metadata": {},
     "output_type": "display_data"
    }
   ],
   "source": [
    "confusion_matrix = metrics.confusion_matrix(y_test, test_predicts_naive)\n",
    "\n",
    "labels = ['Agriculture', 'Cross', 'Education', 'Food', 'Health', 'Livelihood', 'Logistic', 'NFI', 'Nutrition', 'Protection', 'Shelter', 'WASH']\n",
    "\n",
    "cm_display = metrics.ConfusionMatrixDisplay(confusion_matrix = confusion_matrix, display_labels = labels)\n",
    "cm_display.plot()"
   ]
  },
  {
   "cell_type": "markdown",
   "metadata": {},
   "source": [
    "The biggest confusion is in Cross and Health classes."
   ]
  }
 ],
 "metadata": {
  "kernelspec": {
   "display_name": "Python 3.10.5 64-bit",
   "language": "python",
   "name": "python3"
  },
  "language_info": {
   "codemirror_mode": {
    "name": "ipython",
    "version": 3
   },
   "file_extension": ".py",
   "mimetype": "text/x-python",
   "name": "python",
   "nbconvert_exporter": "python",
   "pygments_lexer": "ipython3",
   "version": "3.10.5"
  },
  "vscode": {
   "interpreter": {
    "hash": "aee8b7b246df8f9039afb4144a1f6fd8d2ca17a180786b69acc140d282b71a49"
   }
  }
 },
 "nbformat": 4,
 "nbformat_minor": 4
}
